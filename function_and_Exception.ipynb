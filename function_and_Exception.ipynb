{
  "nbformat": 4,
  "nbformat_minor": 0,
  "metadata": {
    "colab": {
      "name": "function and Exception.ipynb",
      "provenance": []
    },
    "kernelspec": {
      "name": "python3",
      "display_name": "Python 3"
    },
    "language_info": {
      "name": "python"
    }
  },
  "cells": [
    {
      "cell_type": "code",
      "execution_count": null,
      "metadata": {
        "colab": {
          "base_uri": "https://localhost:8080/"
        },
        "id": "KNV7xrHGhe2J",
        "outputId": "e31d571a-0a16-4591-f7e8-f26530628037"
      },
      "outputs": [
        {
          "output_type": "stream",
          "name": "stdout",
          "text": [
            "Hello World\n"
          ]
        }
      ],
      "source": [
        "print(\"Hello World\")"
      ]
    },
    {
      "cell_type": "code",
      "source": [
        ""
      ],
      "metadata": {
        "id": "F64-Fy_7kHSX"
      },
      "execution_count": null,
      "outputs": []
    },
    {
      "cell_type": "markdown",
      "source": [
        "**python functions practise///////**\n"
      ],
      "metadata": {
        "id": "3nHr7axdkdk5"
      }
    },
    {
      "cell_type": "code",
      "source": [
        "def greet_user(fist_name, last_name):\n",
        "    print(f'Hi{fist_name} {last_name}!')\n",
        "    print('Welcome aboard')\n",
        "    print('finish') "
      ],
      "metadata": {
        "id": "u-fsvynska6g"
      },
      "execution_count": null,
      "outputs": []
    },
    {
      "cell_type": "code",
      "source": [
        "print('start')\n",
        "greet_user('qazi', last_name = 'danish')\n",
        "\n",
        "greet_user('qazi', last_name='apple')"
      ],
      "metadata": {
        "id": "0ksm6Vl8khCo"
      },
      "execution_count": null,
      "outputs": []
    },
    {
      "cell_type": "markdown",
      "source": [
        "**Python exception handling......**"
      ],
      "metadata": {
        "id": "6T-5Lqw1kk7_"
      }
    },
    {
      "cell_type": "code",
      "source": [
        " \n",
        "try:\n",
        "    age = int(input('Age:'))\n",
        "    income = 20000\n",
        "    risk =  round(income / age,2)\n",
        "    print(risk)\n",
        "except ZeroDivisionError :\n",
        "    print(\"********************Age cannot be 0.******************\")\n",
        "except ValueError:\n",
        "    print(\"*************add a number Invalid value****************\")\n",
        "\n",
        "print(\"final call of the end Hello World\")"
      ],
      "metadata": {
        "colab": {
          "base_uri": "https://localhost:8080/"
        },
        "id": "yTmLbChRhvei",
        "outputId": "fe5736d4-0d99-4dc7-c7e1-9ef85134fc01"
      },
      "execution_count": null,
      "outputs": [
        {
          "output_type": "stream",
          "name": "stdout",
          "text": [
            "start\n",
            "Hiqazi danish!\n",
            "Welcome aboard\n",
            "finish\n",
            "Hiqazi apple!\n",
            "Welcome aboard\n",
            "finish\n",
            "Age:23\n",
            "869.57\n",
            "final call of the end Hello World\n"
          ]
        }
      ]
    },
    {
      "cell_type": "code",
      "source": [
        ""
      ],
      "metadata": {
        "id": "_wnKq1UvpLaz"
      },
      "execution_count": null,
      "outputs": []
    }
  ]
}